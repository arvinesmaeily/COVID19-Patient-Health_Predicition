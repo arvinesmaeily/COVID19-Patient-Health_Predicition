{
 "cells": [
  {
   "cell_type": "code",
   "execution_count": 34,
   "metadata": {},
   "outputs": [],
   "source": [
    "import pandas as pd\n",
    "import numpy as np\n",
    "import matplotlib.pyplot as plt\n",
    "import seaborn as sns\n",
    "import math\n",
    "from xgboost.sklearn import XGBClassifier\n",
    "from sklearn.model_selection import cross_validate, train_test_split\n",
    "from sklearn.preprocessing import MinMaxScaler\n",
    "from sklearn.linear_model import LogisticRegression\n",
    "from sklearn.tree import DecisionTreeClassifier, plot_tree\n",
    "from sklearn.svm import SVC\n",
    "from sklearn.naive_bayes import GaussianNB,MultinomialNB\n",
    "from sklearn.neighbors import KNeighborsClassifier\n",
    "from sklearn.ensemble import AdaBoostClassifier, BaggingClassifier, VotingClassifier, StackingClassifier, RandomForestClassifier\n",
    "from sklearn.neural_network import MLPClassifier\n",
    "\n",
    "from sklearn.metrics import SCORERS, accuracy_score, roc_auc_score, f1_score, precision_score, recall_score, roc_curve, confusion_matrix"
   ]
  },
  {
   "cell_type": "markdown",
   "metadata": {},
   "source": [
    "# Import Data"
   ]
  },
  {
   "cell_type": "markdown",
   "metadata": {},
   "source": [
    "## Read Data"
   ]
  },
  {
   "cell_type": "markdown",
   "metadata": {},
   "source": [
    "Reading and importing data for training and evaluation"
   ]
  },
  {
   "cell_type": "code",
   "execution_count": 2,
   "metadata": {},
   "outputs": [],
   "source": [
    "X = pd.read_csv('X.csv')\n",
    "X = X.set_index('ID')\n",
    "y = pd.read_csv('y.csv')\n",
    "y = y.set_index('ID')"
   ]
  },
  {
   "cell_type": "markdown",
   "metadata": {},
   "source": [
    "## Create Train and Test sets"
   ]
  },
  {
   "cell_type": "code",
   "execution_count": 3,
   "metadata": {},
   "outputs": [
    {
     "name": "stdout",
     "output_type": "stream",
     "text": [
      "(12626, 13)\n",
      "(3157, 13)\n",
      "(12626, 1)\n",
      "(3157, 1)\n"
     ]
    }
   ],
   "source": [
    "X_train, X_test, y_train, y_test = train_test_split(X, y, train_size = 0.8)\n",
    "print(X_train.shape)\n",
    "print(X_test.shape)\n",
    "print(y_train.shape)\n",
    "print(y_test.shape)"
   ]
  },
  {
   "cell_type": "markdown",
   "metadata": {},
   "source": [
    "## Scale Data"
   ]
  },
  {
   "cell_type": "code",
   "execution_count": 4,
   "metadata": {},
   "outputs": [],
   "source": [
    "scaler = MinMaxScaler()\n",
    "X_train = scaler.fit_transform(X_train, y_train)\n",
    "X_test = scaler.transform(X_test)"
   ]
  },
  {
   "cell_type": "markdown",
   "metadata": {},
   "source": [
    "# Define And Train Models (Using Best Hyper Paramters)"
   ]
  },
  {
   "cell_type": "markdown",
   "metadata": {},
   "source": [
    "## Base Models"
   ]
  },
  {
   "cell_type": "markdown",
   "metadata": {},
   "source": [
    "### LR"
   ]
  },
  {
   "cell_type": "code",
   "execution_count": 5,
   "metadata": {},
   "outputs": [
    {
     "name": "stderr",
     "output_type": "stream",
     "text": [
      "C:\\ProgramData\\Anaconda3\\lib\\site-packages\\sklearn\\utils\\validation.py:63: DataConversionWarning: A column-vector y was passed when a 1d array was expected. Please change the shape of y to (n_samples, ), for example using ravel().\n",
      "  return f(*args, **kwargs)\n"
     ]
    }
   ],
   "source": [
    "LR = LogisticRegression(C=1, solver='newton-cg', penalty='l2',n_jobs=-1)\n",
    "LR.fit(X_train, y_train)\n",
    "LR_pred_train = LR.predict(X_train)\n",
    "LR_pred_test = LR.predict(X_test)"
   ]
  },
  {
   "cell_type": "markdown",
   "metadata": {},
   "source": [
    "### DT"
   ]
  },
  {
   "cell_type": "code",
   "execution_count": 6,
   "metadata": {},
   "outputs": [],
   "source": [
    "DT = DecisionTreeClassifier(criterion='entropy', splitter='best', max_depth=10, min_samples_split=10,\n",
    "    min_samples_leaf=2, max_features='auto', max_leaf_nodes=None, min_impurity_decrease=0,ccp_alpha=0)\n",
    "DT.fit(X_train, y_train)\n",
    "DT_pred_train = DT.predict(X_train)\n",
    "DT_pred_test = DT.predict(X_test)"
   ]
  },
  {
   "cell_type": "markdown",
   "metadata": {},
   "source": [
    "### RF"
   ]
  },
  {
   "cell_type": "code",
   "execution_count": 7,
   "metadata": {},
   "outputs": [
    {
     "name": "stderr",
     "output_type": "stream",
     "text": [
      "C:\\Users\\Hybrid\\AppData\\Local\\Temp/ipykernel_10956/3227627678.py:4: DataConversionWarning: A column-vector y was passed when a 1d array was expected. Please change the shape of y to (n_samples,), for example using ravel().\n",
      "  RF.fit(X_train, y_train)\n",
      "C:\\ProgramData\\Anaconda3\\lib\\site-packages\\sklearn\\ensemble\\_forest.py:587: UserWarning: class_weight presets \"balanced\" or \"balanced_subsample\" are not recommended for warm_start if the fitted data differs from the full dataset. In order to use \"balanced\" weights, use compute_class_weight (\"balanced\", classes, y). In place of y you can use a large enough sample of the full training set target to properly estimate the class frequency distributions. Pass the resulting weights as the class_weight parameter.\n",
      "  warn('class_weight presets \"balanced\" or '\n"
     ]
    }
   ],
   "source": [
    "RF = RandomForestClassifier(n_estimators=1000,criterion='entropy', max_depth=10, min_samples_split=10,\n",
    "    min_samples_leaf=2, max_features='auto', max_leaf_nodes=None, min_impurity_decrease=0,ccp_alpha=0, \n",
    "    bootstrap=True, oob_score=False, warm_start=True, class_weight='balanced', n_jobs=-1)\n",
    "RF.fit(X_train, y_train)\n",
    "RF_pred_train = RF.predict(X_train)\n",
    "RF_pred_test = RF.predict(X_test)"
   ]
  },
  {
   "cell_type": "markdown",
   "metadata": {},
   "source": [
    "### SVM"
   ]
  },
  {
   "cell_type": "code",
   "execution_count": 8,
   "metadata": {},
   "outputs": [
    {
     "name": "stderr",
     "output_type": "stream",
     "text": [
      "C:\\ProgramData\\Anaconda3\\lib\\site-packages\\sklearn\\utils\\validation.py:63: DataConversionWarning: A column-vector y was passed when a 1d array was expected. Please change the shape of y to (n_samples, ), for example using ravel().\n",
      "  return f(*args, **kwargs)\n"
     ]
    }
   ],
   "source": [
    "SVM = SVC(C=1, kernel='linear', degree=5, gamma='auto', probability=True, \n",
    "    cache_size=1000, class_weight='balanced')\n",
    "SVM.fit(X_train, y_train)\n",
    "SVM_pred_train = SVM.predict(X_train)\n",
    "SVM_pred_test = SVM.predict(X_test)"
   ]
  },
  {
   "cell_type": "markdown",
   "metadata": {},
   "source": [
    "### GNB"
   ]
  },
  {
   "cell_type": "code",
   "execution_count": 9,
   "metadata": {},
   "outputs": [
    {
     "name": "stderr",
     "output_type": "stream",
     "text": [
      "C:\\ProgramData\\Anaconda3\\lib\\site-packages\\sklearn\\utils\\validation.py:63: DataConversionWarning: A column-vector y was passed when a 1d array was expected. Please change the shape of y to (n_samples, ), for example using ravel().\n",
      "  return f(*args, **kwargs)\n"
     ]
    }
   ],
   "source": [
    "GNB = GaussianNB(var_smoothing=1)\n",
    "GNB.fit(X_train, y_train)\n",
    "GNB_pred_train = GNB.predict(X_train)\n",
    "GNB_pred_test = GNB.predict(X_test)"
   ]
  },
  {
   "cell_type": "markdown",
   "metadata": {},
   "source": [
    "### MNB"
   ]
  },
  {
   "cell_type": "code",
   "execution_count": 10,
   "metadata": {},
   "outputs": [
    {
     "name": "stderr",
     "output_type": "stream",
     "text": [
      "C:\\ProgramData\\Anaconda3\\lib\\site-packages\\sklearn\\utils\\validation.py:63: DataConversionWarning: A column-vector y was passed when a 1d array was expected. Please change the shape of y to (n_samples, ), for example using ravel().\n",
      "  return f(*args, **kwargs)\n"
     ]
    }
   ],
   "source": [
    "MNB = MultinomialNB(alpha=1e-4, fit_prior=True)\n",
    "MNB.fit(X_train, y_train)\n",
    "MNB_pred_train = MNB.predict(X_train)\n",
    "MNB_pred_test = MNB.predict(X_test)"
   ]
  },
  {
   "cell_type": "markdown",
   "metadata": {},
   "source": [
    "### KNN"
   ]
  },
  {
   "cell_type": "code",
   "execution_count": 12,
   "metadata": {},
   "outputs": [
    {
     "name": "stderr",
     "output_type": "stream",
     "text": [
      "C:\\ProgramData\\Anaconda3\\lib\\site-packages\\sklearn\\neighbors\\_classification.py:179: DataConversionWarning: A column-vector y was passed when a 1d array was expected. Please change the shape of y to (n_samples,), for example using ravel().\n",
      "  return self._fit(X, y)\n"
     ]
    }
   ],
   "source": [
    "KNN = KNeighborsClassifier(n_neighbors=10, weights='distance', algorithm='ball_tree', \n",
    "        leaf_size=30, p=1, metric='minkowski', n_jobs=-1)\n",
    "KNN.fit(X_train, y_train)\n",
    "KNN_pred_train = KNN.predict(X_train)\n",
    "KNN_pred_test = KNN.predict(X_test)"
   ]
  },
  {
   "cell_type": "markdown",
   "metadata": {},
   "source": [
    "## Ensemble Methods"
   ]
  },
  {
   "cell_type": "markdown",
   "metadata": {},
   "source": [
    "### Base Models For Ensemble Methods"
   ]
  },
  {
   "cell_type": "markdown",
   "metadata": {},
   "source": [
    "Define base models with hyper paramteres acquired from previous section which resulted in best scores, in hope to achieve the best possible results in ensemble methods as well"
   ]
  },
  {
   "cell_type": "code",
   "execution_count": 13,
   "metadata": {},
   "outputs": [],
   "source": [
    "LR = LogisticRegression(C=1, solver='newton-cg', penalty='l2',n_jobs=-1)"
   ]
  },
  {
   "cell_type": "code",
   "execution_count": 14,
   "metadata": {},
   "outputs": [],
   "source": [
    "DT = DecisionTreeClassifier(criterion='entropy', splitter='best', max_depth=10, min_samples_split=10,\n",
    "    min_samples_leaf=2, max_features='auto', max_leaf_nodes=None, min_impurity_decrease=0,ccp_alpha=0)"
   ]
  },
  {
   "cell_type": "code",
   "execution_count": 15,
   "metadata": {},
   "outputs": [],
   "source": [
    "RF = RandomForestClassifier(n_estimators=1000,criterion='entropy', max_depth=10, min_samples_split=10,\n",
    "    min_samples_leaf=2, max_features='auto', max_leaf_nodes=None, min_impurity_decrease=0,ccp_alpha=0, \n",
    "    bootstrap=True, oob_score=False, warm_start=True, class_weight='balanced', n_jobs=-1)"
   ]
  },
  {
   "cell_type": "code",
   "execution_count": 16,
   "metadata": {},
   "outputs": [],
   "source": [
    "SVM = SVC(C=1, kernel='linear', degree=5, gamma='auto', probability=True, \n",
    "                            cache_size=1000, class_weight='balanced')"
   ]
  },
  {
   "cell_type": "code",
   "execution_count": 17,
   "metadata": {},
   "outputs": [],
   "source": [
    "GNB = GaussianNB(var_smoothing=1)"
   ]
  },
  {
   "cell_type": "code",
   "execution_count": 18,
   "metadata": {},
   "outputs": [],
   "source": [
    "MNB = MultinomialNB(alpha=1e-4, fit_prior=True)"
   ]
  },
  {
   "cell_type": "code",
   "execution_count": 19,
   "metadata": {},
   "outputs": [],
   "source": [
    "KNN = KNeighborsClassifier(n_neighbors=10, weights='distance', algorithm='ball_tree', \n",
    "        leaf_size=30, p=1, metric='minkowski', n_jobs=-1)"
   ]
  },
  {
   "cell_type": "markdown",
   "metadata": {},
   "source": [
    "### Adaboost"
   ]
  },
  {
   "cell_type": "code",
   "execution_count": 20,
   "metadata": {},
   "outputs": [
    {
     "name": "stderr",
     "output_type": "stream",
     "text": [
      "C:\\ProgramData\\Anaconda3\\lib\\site-packages\\sklearn\\utils\\validation.py:63: DataConversionWarning: A column-vector y was passed when a 1d array was expected. Please change the shape of y to (n_samples, ), for example using ravel().\n",
      "  return f(*args, **kwargs)\n"
     ]
    }
   ],
   "source": [
    "LR_Ada = AdaBoostClassifier(base_estimator=LR, n_estimators=100, algorithm='SAMME.R', learning_rate=1)\n",
    "LR_Ada.fit(X_train, y_train)\n",
    "LR_Ada_pred_train = LR_Ada.predict(X_train)\n",
    "LR_Ada_pred_test = LR_Ada.predict(X_test)"
   ]
  },
  {
   "cell_type": "code",
   "execution_count": 21,
   "metadata": {},
   "outputs": [
    {
     "name": "stderr",
     "output_type": "stream",
     "text": [
      "C:\\ProgramData\\Anaconda3\\lib\\site-packages\\sklearn\\utils\\validation.py:63: DataConversionWarning: A column-vector y was passed when a 1d array was expected. Please change the shape of y to (n_samples, ), for example using ravel().\n",
      "  return f(*args, **kwargs)\n"
     ]
    }
   ],
   "source": [
    "DT_Ada = AdaBoostClassifier(base_estimator=DT, n_estimators=100, algorithm='SAMME', learning_rate=0.001)\n",
    "DT_Ada.fit(X_train, y_train)\n",
    "DT_Ada_pred_train = DT_Ada.predict(X_train)\n",
    "DT_Ada_pred_test = DT_Ada.predict(X_test)"
   ]
  },
  {
   "cell_type": "code",
   "execution_count": 22,
   "metadata": {},
   "outputs": [
    {
     "name": "stderr",
     "output_type": "stream",
     "text": [
      "C:\\ProgramData\\Anaconda3\\lib\\site-packages\\sklearn\\utils\\validation.py:63: DataConversionWarning: A column-vector y was passed when a 1d array was expected. Please change the shape of y to (n_samples, ), for example using ravel().\n",
      "  return f(*args, **kwargs)\n",
      "C:\\ProgramData\\Anaconda3\\lib\\site-packages\\sklearn\\ensemble\\_forest.py:587: UserWarning: class_weight presets \"balanced\" or \"balanced_subsample\" are not recommended for warm_start if the fitted data differs from the full dataset. In order to use \"balanced\" weights, use compute_class_weight (\"balanced\", classes, y). In place of y you can use a large enough sample of the full training set target to properly estimate the class frequency distributions. Pass the resulting weights as the class_weight parameter.\n",
      "  warn('class_weight presets \"balanced\" or '\n"
     ]
    }
   ],
   "source": [
    "RF_Ada = AdaBoostClassifier(base_estimator=RF, n_estimators=1, algorithm='SAMME', learning_rate=1)\n",
    "RF_Ada.fit(X_train, y_train)\n",
    "RF_Ada_pred_train = RF_Ada.predict(X_train)\n",
    "RF_Ada_pred_test = RF_Ada.predict(X_test)"
   ]
  },
  {
   "cell_type": "code",
   "execution_count": 23,
   "metadata": {},
   "outputs": [
    {
     "name": "stderr",
     "output_type": "stream",
     "text": [
      "C:\\ProgramData\\Anaconda3\\lib\\site-packages\\sklearn\\utils\\validation.py:63: DataConversionWarning: A column-vector y was passed when a 1d array was expected. Please change the shape of y to (n_samples, ), for example using ravel().\n",
      "  return f(*args, **kwargs)\n"
     ]
    }
   ],
   "source": [
    "SVM_Ada = AdaBoostClassifier(base_estimator=SVM, n_estimators=10, algorithm='SAMME.R', learning_rate=0.1)\n",
    "SVM_Ada.fit(X_train, y_train)\n",
    "SVM_Ada_pred_train = SVM_Ada.predict(X_train)\n",
    "SVM_Ada_pred_test = SVM_Ada.predict(X_test)"
   ]
  },
  {
   "cell_type": "code",
   "execution_count": 24,
   "metadata": {},
   "outputs": [
    {
     "name": "stderr",
     "output_type": "stream",
     "text": [
      "C:\\ProgramData\\Anaconda3\\lib\\site-packages\\sklearn\\utils\\validation.py:63: DataConversionWarning: A column-vector y was passed when a 1d array was expected. Please change the shape of y to (n_samples, ), for example using ravel().\n",
      "  return f(*args, **kwargs)\n"
     ]
    }
   ],
   "source": [
    "GNB_Ada = AdaBoostClassifier(base_estimator=GNB, n_estimators=10, algorithm='SAMME.R', learning_rate=0.1)\n",
    "GNB_Ada.fit(X_train, y_train)\n",
    "GNB_Ada_pred_train = GNB_Ada.predict(X_train)\n",
    "GNB_Ada_pred_test = GNB_Ada.predict(X_test)"
   ]
  },
  {
   "cell_type": "code",
   "execution_count": 25,
   "metadata": {},
   "outputs": [
    {
     "name": "stderr",
     "output_type": "stream",
     "text": [
      "C:\\ProgramData\\Anaconda3\\lib\\site-packages\\sklearn\\utils\\validation.py:63: DataConversionWarning: A column-vector y was passed when a 1d array was expected. Please change the shape of y to (n_samples, ), for example using ravel().\n",
      "  return f(*args, **kwargs)\n"
     ]
    }
   ],
   "source": [
    "MNB_Ada = AdaBoostClassifier(base_estimator=MNB, n_estimators=1000, algorithm='SAMME', learning_rate=0.001)\n",
    "MNB_Ada.fit(X_train, y_train)\n",
    "MNB_Ada_pred_train = MNB_Ada.predict(X_train)\n",
    "MNB_Ada_pred_test = MNB_Ada.predict(X_test)"
   ]
  },
  {
   "cell_type": "markdown",
   "metadata": {},
   "source": [
    "As mentioned earlier KNN is incompatible with Adaboost"
   ]
  },
  {
   "cell_type": "markdown",
   "metadata": {},
   "source": [
    "### XGBoost"
   ]
  },
  {
   "cell_type": "code",
   "execution_count": 26,
   "metadata": {},
   "outputs": [
    {
     "name": "stderr",
     "output_type": "stream",
     "text": [
      "C:\\ProgramData\\Anaconda3\\lib\\site-packages\\xgboost\\sklearn.py:1224: UserWarning: The use of label encoder in XGBClassifier is deprecated and will be removed in a future release. To remove this warning, do the following: 1) Pass option use_label_encoder=False when constructing XGBClassifier object; and 2) Encode your labels (y) as integers starting with 0, i.e. 0, 1, 2, ..., [num_class - 1].\n",
      "  warnings.warn(label_encoder_deprecation_msg, UserWarning)\n",
      "C:\\ProgramData\\Anaconda3\\lib\\site-packages\\sklearn\\utils\\validation.py:63: DataConversionWarning: A column-vector y was passed when a 1d array was expected. Please change the shape of y to (n_samples, ), for example using ravel().\n",
      "  return f(*args, **kwargs)\n"
     ]
    },
    {
     "name": "stdout",
     "output_type": "stream",
     "text": [
      "[21:15:20] WARNING: D:\\bld\\xgboost-split_1643227225381\\work\\src\\learner.cc:1115: Starting in XGBoost 1.3.0, the default evaluation metric used with the objective 'multi:softprob' was changed from 'merror' to 'mlogloss'. Explicitly set eval_metric if you'd like to restore the old behavior.\n"
     ]
    }
   ],
   "source": [
    "XGB = XGBClassifier(n_estimators=1000, max_depth=100000, learning_rate=0.001, booster='gbtree', tree_method='approx', \n",
    "gamma=1, min_child_weight=0.1, max_delta_step=1, reg_alpha=1, reg_lambda=1)\n",
    "XGB.fit(X_train, y_train)\n",
    "XGB_pred_train = XGB.predict(X_train)\n",
    "XGB_pred_test = XGB.predict(X_test)"
   ]
  },
  {
   "cell_type": "markdown",
   "metadata": {},
   "source": [
    "### Bagging"
   ]
  },
  {
   "cell_type": "code",
   "execution_count": 27,
   "metadata": {},
   "outputs": [
    {
     "name": "stderr",
     "output_type": "stream",
     "text": [
      "C:\\ProgramData\\Anaconda3\\lib\\site-packages\\sklearn\\utils\\validation.py:63: DataConversionWarning: A column-vector y was passed when a 1d array was expected. Please change the shape of y to (n_samples, ), for example using ravel().\n",
      "  return f(*args, **kwargs)\n"
     ]
    }
   ],
   "source": [
    "LR_Bag = BaggingClassifier(base_estimator=LR, n_estimators=100, max_samples=7, max_features=0.7, bootstrap=True,\n",
    "    bootstrap_features=False, oob_score=False, warm_start=True, n_jobs=-1)\n",
    "LR_Bag.fit(X_train, y_train)\n",
    "LR_Bag_pred_train = LR_Bag.predict(X_train)\n",
    "LR_Bag_pred_test = LR_Bag.predict(X_test)"
   ]
  },
  {
   "cell_type": "code",
   "execution_count": 28,
   "metadata": {},
   "outputs": [
    {
     "name": "stderr",
     "output_type": "stream",
     "text": [
      "C:\\ProgramData\\Anaconda3\\lib\\site-packages\\sklearn\\utils\\validation.py:63: DataConversionWarning: A column-vector y was passed when a 1d array was expected. Please change the shape of y to (n_samples, ), for example using ravel().\n",
      "  return f(*args, **kwargs)\n"
     ]
    }
   ],
   "source": [
    "DT_Bag = BaggingClassifier(base_estimator=DT, n_estimators=100, max_samples=7, max_features=1, bootstrap=False,\n",
    "    bootstrap_features=False, oob_score=False, warm_start=False, n_jobs=-1)\n",
    "DT_Bag.fit(X_train, y_train)\n",
    "DT_Bag_pred_train = DT_Bag.predict(X_train)\n",
    "DT_Bag_pred_test = DT_Bag.predict(X_test)"
   ]
  },
  {
   "cell_type": "code",
   "execution_count": 29,
   "metadata": {},
   "outputs": [
    {
     "name": "stderr",
     "output_type": "stream",
     "text": [
      "C:\\ProgramData\\Anaconda3\\lib\\site-packages\\sklearn\\utils\\validation.py:63: DataConversionWarning: A column-vector y was passed when a 1d array was expected. Please change the shape of y to (n_samples, ), for example using ravel().\n",
      "  return f(*args, **kwargs)\n"
     ]
    }
   ],
   "source": [
    "RF_Bag = BaggingClassifier(base_estimator=RF, n_estimators=10, max_samples=5, max_features=1, bootstrap=True,\n",
    "    bootstrap_features=False, oob_score=False, warm_start=True, n_jobs=-1)\n",
    "RF_Bag.fit(X_train, y_train)\n",
    "RF_Bag_pred_train = RF_Bag.predict(X_train)\n",
    "RF_Bag_pred_test = RF_Bag.predict(X_test)"
   ]
  },
  {
   "cell_type": "markdown",
   "metadata": {},
   "source": [
    "SVM is incompatible with Bagging"
   ]
  },
  {
   "cell_type": "markdown",
   "metadata": {},
   "source": [
    "GNB is incompatible with Bagging"
   ]
  },
  {
   "cell_type": "code",
   "execution_count": 30,
   "metadata": {},
   "outputs": [
    {
     "name": "stderr",
     "output_type": "stream",
     "text": [
      "C:\\ProgramData\\Anaconda3\\lib\\site-packages\\sklearn\\utils\\validation.py:63: DataConversionWarning: A column-vector y was passed when a 1d array was expected. Please change the shape of y to (n_samples, ), for example using ravel().\n",
      "  return f(*args, **kwargs)\n"
     ]
    }
   ],
   "source": [
    "MNB_Bag = BaggingClassifier(base_estimator=MNB, n_estimators=100, max_samples=5, max_features=0.5, bootstrap=True,\n",
    "    bootstrap_features=True, oob_score=False, warm_start=True, n_jobs=-1)\n",
    "MNB_Bag.fit(X_train, y_train)\n",
    "MNB_Bag_pred_train = MNB_Bag.predict(X_train)\n",
    "MNB_Bag_pred_test = MNB_Bag.predict(X_test)"
   ]
  },
  {
   "cell_type": "markdown",
   "metadata": {},
   "source": [
    "KNN is incompatible with Bagging"
   ]
  },
  {
   "cell_type": "markdown",
   "metadata": {},
   "source": [
    "### Voting"
   ]
  },
  {
   "cell_type": "code",
   "execution_count": 31,
   "metadata": {},
   "outputs": [],
   "source": [
    "estimators = [('LR', LR), ('DT', DT), ('RF', RF), ('SVM', SVM), ('GNB', GNB), ('MNB', MNB), ('KNN', KNN)]"
   ]
  },
  {
   "cell_type": "code",
   "execution_count": 32,
   "metadata": {},
   "outputs": [
    {
     "name": "stderr",
     "output_type": "stream",
     "text": [
      "C:\\ProgramData\\Anaconda3\\lib\\site-packages\\sklearn\\utils\\validation.py:63: DataConversionWarning: A column-vector y was passed when a 1d array was expected. Please change the shape of y to (n_samples, ), for example using ravel().\n",
      "  return f(*args, **kwargs)\n"
     ]
    }
   ],
   "source": [
    "VT = VotingClassifier(estimators=estimators, voting='soft', flatten_transform=True, n_jobs=-1)\n",
    "VT.fit(X_train, y_train)\n",
    "VT_pred_train = VT.predict(X_train)\n",
    "VT_pred_test = VT.predict(X_test)"
   ]
  },
  {
   "cell_type": "markdown",
   "metadata": {},
   "source": [
    "# Scoring"
   ]
  },
  {
   "cell_type": "markdown",
   "metadata": {},
   "source": [
    "## Base Models"
   ]
  },
  {
   "cell_type": "code",
   "execution_count": 90,
   "metadata": {},
   "outputs": [],
   "source": [
    "base_list = ['LR', 'DT', 'RF', 'SVM', 'GNB', 'MNB', 'KNN']\n",
    "\n",
    "pred_train_list = [LR_pred_train, DT_pred_train, RF_pred_train, \n",
    "    SVM_pred_train, GNB_pred_train, MNB_Ada_pred_train, KNN_pred_train]\n",
    "\n",
    "pred_test_list = [LR_pred_test, DT_pred_test, RF_pred_test, \n",
    "    SVM_pred_test, GNB_pred_test, MNB_Ada_pred_test, KNN_pred_test]"
   ]
  },
  {
   "cell_type": "code",
   "execution_count": 91,
   "metadata": {},
   "outputs": [
    {
     "name": "stderr",
     "output_type": "stream",
     "text": [
      "C:\\ProgramData\\Anaconda3\\lib\\site-packages\\sklearn\\metrics\\_classification.py:1248: UndefinedMetricWarning: Precision is ill-defined and being set to 0.0 in labels with no predicted samples. Use `zero_division` parameter to control this behavior.\n",
      "  _warn_prf(average, modifier, msg_start, len(result))\n",
      "C:\\ProgramData\\Anaconda3\\lib\\site-packages\\sklearn\\metrics\\_classification.py:1248: UndefinedMetricWarning: Precision is ill-defined and being set to 0.0 in labels with no predicted samples. Use `zero_division` parameter to control this behavior.\n",
      "  _warn_prf(average, modifier, msg_start, len(result))\n"
     ]
    }
   ],
   "source": [
    "base_scores = []\n",
    "for i in range(len(base_list)):\n",
    "    \n",
    "    accuracy_train = accuracy_score(y_train, pred_train_list[i])\n",
    "    accuracy_test = accuracy_score(y_test, pred_test_list[i])\n",
    "\n",
    "    f1_train = f1_score(y_train, pred_train_list[i], average='weighted')\n",
    "    f1_test = f1_score(y_test, pred_test_list[i], average='weighted')\n",
    "\n",
    "    precision_train = precision_score(y_train, pred_train_list[i], average='weighted')\n",
    "    precision_test = precision_score(y_test, pred_test_list[i], average='weighted')\n",
    "\n",
    "    recall_train = recall_score(y_train, pred_train_list[i], average='weighted')\n",
    "    recall_test = recall_score(y_test, pred_test_list[i], average='weighted')\n",
    "\n",
    "    base_scores.append([base_list[i], accuracy_train, accuracy_test,\n",
    "        f1_train, f1_test, precision_train, precision_test, recall_train, recall_test])"
   ]
  },
  {
   "cell_type": "code",
   "execution_count": 92,
   "metadata": {},
   "outputs": [
    {
     "data": {
      "text/html": [
       "<div>\n",
       "<style scoped>\n",
       "    .dataframe tbody tr th:only-of-type {\n",
       "        vertical-align: middle;\n",
       "    }\n",
       "\n",
       "    .dataframe tbody tr th {\n",
       "        vertical-align: top;\n",
       "    }\n",
       "\n",
       "    .dataframe thead th {\n",
       "        text-align: right;\n",
       "    }\n",
       "</style>\n",
       "<table border=\"1\" class=\"dataframe\">\n",
       "  <thead>\n",
       "    <tr style=\"text-align: right;\">\n",
       "      <th></th>\n",
       "      <th>model</th>\n",
       "      <th>accuracy_train</th>\n",
       "      <th>accuracy_test</th>\n",
       "      <th>f1_train</th>\n",
       "      <th>f1_test</th>\n",
       "      <th>precision_train</th>\n",
       "      <th>precision_test</th>\n",
       "      <th>recall_train</th>\n",
       "      <th>recall_test</th>\n",
       "    </tr>\n",
       "  </thead>\n",
       "  <tbody>\n",
       "    <tr>\n",
       "      <th>0</th>\n",
       "      <td>LR</td>\n",
       "      <td>0.882465</td>\n",
       "      <td>0.884067</td>\n",
       "      <td>0.879063</td>\n",
       "      <td>0.881739</td>\n",
       "      <td>0.885437</td>\n",
       "      <td>0.885426</td>\n",
       "      <td>0.882465</td>\n",
       "      <td>0.884067</td>\n",
       "    </tr>\n",
       "    <tr>\n",
       "      <th>1</th>\n",
       "      <td>DT</td>\n",
       "      <td>0.928877</td>\n",
       "      <td>0.914793</td>\n",
       "      <td>0.928558</td>\n",
       "      <td>0.914610</td>\n",
       "      <td>0.931618</td>\n",
       "      <td>0.916657</td>\n",
       "      <td>0.928877</td>\n",
       "      <td>0.914793</td>\n",
       "    </tr>\n",
       "    <tr>\n",
       "      <th>2</th>\n",
       "      <td>RF</td>\n",
       "      <td>0.931095</td>\n",
       "      <td>0.919861</td>\n",
       "      <td>0.930621</td>\n",
       "      <td>0.919352</td>\n",
       "      <td>0.939318</td>\n",
       "      <td>0.928545</td>\n",
       "      <td>0.931095</td>\n",
       "      <td>0.919861</td>\n",
       "    </tr>\n",
       "    <tr>\n",
       "      <th>3</th>\n",
       "      <td>SVM</td>\n",
       "      <td>0.890147</td>\n",
       "      <td>0.889769</td>\n",
       "      <td>0.890678</td>\n",
       "      <td>0.890041</td>\n",
       "      <td>0.907876</td>\n",
       "      <td>0.907150</td>\n",
       "      <td>0.890147</td>\n",
       "      <td>0.889769</td>\n",
       "    </tr>\n",
       "    <tr>\n",
       "      <th>4</th>\n",
       "      <td>GNB</td>\n",
       "      <td>0.794234</td>\n",
       "      <td>0.785556</td>\n",
       "      <td>0.779613</td>\n",
       "      <td>0.771697</td>\n",
       "      <td>0.785417</td>\n",
       "      <td>0.780185</td>\n",
       "      <td>0.794234</td>\n",
       "      <td>0.785556</td>\n",
       "    </tr>\n",
       "    <tr>\n",
       "      <th>5</th>\n",
       "      <td>MNB</td>\n",
       "      <td>0.817123</td>\n",
       "      <td>0.802661</td>\n",
       "      <td>0.812588</td>\n",
       "      <td>0.798758</td>\n",
       "      <td>0.813117</td>\n",
       "      <td>0.797840</td>\n",
       "      <td>0.817123</td>\n",
       "      <td>0.802661</td>\n",
       "    </tr>\n",
       "    <tr>\n",
       "      <th>6</th>\n",
       "      <td>KNN</td>\n",
       "      <td>0.993109</td>\n",
       "      <td>0.912575</td>\n",
       "      <td>0.993114</td>\n",
       "      <td>0.912560</td>\n",
       "      <td>0.993173</td>\n",
       "      <td>0.913305</td>\n",
       "      <td>0.993109</td>\n",
       "      <td>0.912575</td>\n",
       "    </tr>\n",
       "  </tbody>\n",
       "</table>\n",
       "</div>"
      ],
      "text/plain": [
       "  model  accuracy_train  accuracy_test  f1_train   f1_test  precision_train  \\\n",
       "0    LR        0.882465       0.884067  0.879063  0.881739         0.885437   \n",
       "1    DT        0.928877       0.914793  0.928558  0.914610         0.931618   \n",
       "2    RF        0.931095       0.919861  0.930621  0.919352         0.939318   \n",
       "3   SVM        0.890147       0.889769  0.890678  0.890041         0.907876   \n",
       "4   GNB        0.794234       0.785556  0.779613  0.771697         0.785417   \n",
       "5   MNB        0.817123       0.802661  0.812588  0.798758         0.813117   \n",
       "6   KNN        0.993109       0.912575  0.993114  0.912560         0.993173   \n",
       "\n",
       "   precision_test  recall_train  recall_test  \n",
       "0        0.885426      0.882465     0.884067  \n",
       "1        0.916657      0.928877     0.914793  \n",
       "2        0.928545      0.931095     0.919861  \n",
       "3        0.907150      0.890147     0.889769  \n",
       "4        0.780185      0.794234     0.785556  \n",
       "5        0.797840      0.817123     0.802661  \n",
       "6        0.913305      0.993109     0.912575  "
      ]
     },
     "execution_count": 92,
     "metadata": {},
     "output_type": "execute_result"
    }
   ],
   "source": [
    "base_scores_df = pd.DataFrame(base_scores, columns = ['model', 'accuracy_train', 'accuracy_test', 'f1_train', 'f1_test', 'precision_train', 'precision_test', 'recall_train', 'recall_test'])\n",
    "base_scores_df"
   ]
  },
  {
   "cell_type": "markdown",
   "metadata": {},
   "source": [
    "## Ensemble Methods"
   ]
  },
  {
   "cell_type": "code",
   "execution_count": 44,
   "metadata": {},
   "outputs": [],
   "source": [
    "ensemble_list = ['LR_Ada', 'DT_Ada', 'RF_Ada', 'SVM_Ada', 'GNB_Ada', 'MNB_Ada',\n",
    "    'LR_Bag', 'DT_Bag', 'RF_Bag', 'MNB_Bag', 'XGBoost', 'Voting']\n",
    "\n",
    "pred_train_list = [LR_Ada_pred_train, DT_Ada_pred_train, RF_Ada_pred_train, SVM_Ada_pred_train, GNB_Ada_pred_train, MNB_Ada_pred_train,\n",
    "    LR_Bag_pred_train, DT_Bag_pred_train, RF_Bag_pred_train, MNB_Bag_pred_train, XGB_pred_train, VT_pred_train]\n",
    "\n",
    "pred_test_list = [LR_Ada_pred_test, DT_Ada_pred_test, RF_Ada_pred_test, SVM_Ada_pred_test, GNB_Ada_pred_test, MNB_Ada_pred_test,\n",
    "    LR_Bag_pred_test, DT_Bag_pred_test, RF_Bag_pred_test, MNB_Bag_pred_test, XGB_pred_test, VT_pred_test]"
   ]
  },
  {
   "cell_type": "code",
   "execution_count": 45,
   "metadata": {},
   "outputs": [
    {
     "name": "stderr",
     "output_type": "stream",
     "text": [
      "C:\\ProgramData\\Anaconda3\\lib\\site-packages\\sklearn\\metrics\\_classification.py:1248: UndefinedMetricWarning: Precision is ill-defined and being set to 0.0 in labels with no predicted samples. Use `zero_division` parameter to control this behavior.\n",
      "  _warn_prf(average, modifier, msg_start, len(result))\n",
      "C:\\ProgramData\\Anaconda3\\lib\\site-packages\\sklearn\\metrics\\_classification.py:1248: UndefinedMetricWarning: Precision is ill-defined and being set to 0.0 in labels with no predicted samples. Use `zero_division` parameter to control this behavior.\n",
      "  _warn_prf(average, modifier, msg_start, len(result))\n",
      "C:\\ProgramData\\Anaconda3\\lib\\site-packages\\sklearn\\metrics\\_classification.py:1248: UndefinedMetricWarning: Precision is ill-defined and being set to 0.0 in labels with no predicted samples. Use `zero_division` parameter to control this behavior.\n",
      "  _warn_prf(average, modifier, msg_start, len(result))\n",
      "C:\\ProgramData\\Anaconda3\\lib\\site-packages\\sklearn\\metrics\\_classification.py:1248: UndefinedMetricWarning: Precision is ill-defined and being set to 0.0 in labels with no predicted samples. Use `zero_division` parameter to control this behavior.\n",
      "  _warn_prf(average, modifier, msg_start, len(result))\n",
      "C:\\ProgramData\\Anaconda3\\lib\\site-packages\\sklearn\\metrics\\_classification.py:1248: UndefinedMetricWarning: Precision is ill-defined and being set to 0.0 in labels with no predicted samples. Use `zero_division` parameter to control this behavior.\n",
      "  _warn_prf(average, modifier, msg_start, len(result))\n",
      "C:\\ProgramData\\Anaconda3\\lib\\site-packages\\sklearn\\metrics\\_classification.py:1248: UndefinedMetricWarning: Precision is ill-defined and being set to 0.0 in labels with no predicted samples. Use `zero_division` parameter to control this behavior.\n",
      "  _warn_prf(average, modifier, msg_start, len(result))\n",
      "C:\\ProgramData\\Anaconda3\\lib\\site-packages\\sklearn\\metrics\\_classification.py:1248: UndefinedMetricWarning: Precision is ill-defined and being set to 0.0 in labels with no predicted samples. Use `zero_division` parameter to control this behavior.\n",
      "  _warn_prf(average, modifier, msg_start, len(result))\n",
      "C:\\ProgramData\\Anaconda3\\lib\\site-packages\\sklearn\\metrics\\_classification.py:1248: UndefinedMetricWarning: Precision is ill-defined and being set to 0.0 in labels with no predicted samples. Use `zero_division` parameter to control this behavior.\n",
      "  _warn_prf(average, modifier, msg_start, len(result))\n",
      "C:\\ProgramData\\Anaconda3\\lib\\site-packages\\sklearn\\metrics\\_classification.py:1248: UndefinedMetricWarning: Precision is ill-defined and being set to 0.0 in labels with no predicted samples. Use `zero_division` parameter to control this behavior.\n",
      "  _warn_prf(average, modifier, msg_start, len(result))\n"
     ]
    }
   ],
   "source": [
    "ensemble_scores = []\n",
    "for i in range(len(ensemble_list)):\n",
    "    \n",
    "    accuracy_train = accuracy_score(y_train, pred_train_list[i])\n",
    "    accuracy_test = accuracy_score(y_test, pred_test_list[i])\n",
    "\n",
    "    f1_train = f1_score(y_train, pred_train_list[i], average='weighted')\n",
    "    f1_test = f1_score(y_test, pred_test_list[i], average='weighted')\n",
    "\n",
    "    precision_train = precision_score(y_train, pred_train_list[i], average='weighted')\n",
    "    precision_test = precision_score(y_test, pred_test_list[i], average='weighted')\n",
    "\n",
    "    recall_train = recall_score(y_train, pred_train_list[i], average='weighted')\n",
    "    recall_test = recall_score(y_test, pred_test_list[i], average='weighted')\n",
    "\n",
    "    ensemble_scores.append([ensemble_list[i], accuracy_train, accuracy_test,\n",
    "        f1_train, f1_test, precision_train, precision_test, recall_train, recall_test])"
   ]
  },
  {
   "cell_type": "code",
   "execution_count": 47,
   "metadata": {},
   "outputs": [
    {
     "data": {
      "text/html": [
       "<div>\n",
       "<style scoped>\n",
       "    .dataframe tbody tr th:only-of-type {\n",
       "        vertical-align: middle;\n",
       "    }\n",
       "\n",
       "    .dataframe tbody tr th {\n",
       "        vertical-align: top;\n",
       "    }\n",
       "\n",
       "    .dataframe thead th {\n",
       "        text-align: right;\n",
       "    }\n",
       "</style>\n",
       "<table border=\"1\" class=\"dataframe\">\n",
       "  <thead>\n",
       "    <tr style=\"text-align: right;\">\n",
       "      <th></th>\n",
       "      <th>model</th>\n",
       "      <th>accuracy_train</th>\n",
       "      <th>accuracy_test</th>\n",
       "      <th>f1_train</th>\n",
       "      <th>f1_test</th>\n",
       "      <th>precision_train</th>\n",
       "      <th>precision_test</th>\n",
       "      <th>recall_train</th>\n",
       "      <th>recall_test</th>\n",
       "    </tr>\n",
       "  </thead>\n",
       "  <tbody>\n",
       "    <tr>\n",
       "      <th>0</th>\n",
       "      <td>LR_Ada</td>\n",
       "      <td>0.814510</td>\n",
       "      <td>0.803928</td>\n",
       "      <td>0.804280</td>\n",
       "      <td>0.793952</td>\n",
       "      <td>0.817907</td>\n",
       "      <td>0.807363</td>\n",
       "      <td>0.814510</td>\n",
       "      <td>0.803928</td>\n",
       "    </tr>\n",
       "    <tr>\n",
       "      <th>1</th>\n",
       "      <td>DT_Ada</td>\n",
       "      <td>0.941074</td>\n",
       "      <td>0.928413</td>\n",
       "      <td>0.940749</td>\n",
       "      <td>0.928017</td>\n",
       "      <td>0.946397</td>\n",
       "      <td>0.934123</td>\n",
       "      <td>0.941074</td>\n",
       "      <td>0.928413</td>\n",
       "    </tr>\n",
       "    <tr>\n",
       "      <th>2</th>\n",
       "      <td>RF_Ada</td>\n",
       "      <td>0.931095</td>\n",
       "      <td>0.921128</td>\n",
       "      <td>0.930634</td>\n",
       "      <td>0.920664</td>\n",
       "      <td>0.939299</td>\n",
       "      <td>0.929691</td>\n",
       "      <td>0.931095</td>\n",
       "      <td>0.921128</td>\n",
       "    </tr>\n",
       "    <tr>\n",
       "      <th>3</th>\n",
       "      <td>SVM_Ada</td>\n",
       "      <td>0.831300</td>\n",
       "      <td>0.822300</td>\n",
       "      <td>0.826060</td>\n",
       "      <td>0.816944</td>\n",
       "      <td>0.841499</td>\n",
       "      <td>0.832697</td>\n",
       "      <td>0.831300</td>\n",
       "      <td>0.822300</td>\n",
       "    </tr>\n",
       "    <tr>\n",
       "      <th>4</th>\n",
       "      <td>GNB_Ada</td>\n",
       "      <td>0.797719</td>\n",
       "      <td>0.790624</td>\n",
       "      <td>0.783480</td>\n",
       "      <td>0.776903</td>\n",
       "      <td>0.797066</td>\n",
       "      <td>0.785328</td>\n",
       "      <td>0.797719</td>\n",
       "      <td>0.790624</td>\n",
       "    </tr>\n",
       "    <tr>\n",
       "      <th>5</th>\n",
       "      <td>MNB_Ada</td>\n",
       "      <td>0.817123</td>\n",
       "      <td>0.802661</td>\n",
       "      <td>0.812588</td>\n",
       "      <td>0.798758</td>\n",
       "      <td>0.813117</td>\n",
       "      <td>0.797840</td>\n",
       "      <td>0.817123</td>\n",
       "      <td>0.802661</td>\n",
       "    </tr>\n",
       "    <tr>\n",
       "      <th>6</th>\n",
       "      <td>LR_Bag</td>\n",
       "      <td>0.516316</td>\n",
       "      <td>0.496991</td>\n",
       "      <td>0.410417</td>\n",
       "      <td>0.396151</td>\n",
       "      <td>0.361020</td>\n",
       "      <td>0.354721</td>\n",
       "      <td>0.516316</td>\n",
       "      <td>0.496991</td>\n",
       "    </tr>\n",
       "    <tr>\n",
       "      <th>7</th>\n",
       "      <td>DT_Bag</td>\n",
       "      <td>0.380406</td>\n",
       "      <td>0.365854</td>\n",
       "      <td>0.209661</td>\n",
       "      <td>0.195993</td>\n",
       "      <td>0.144708</td>\n",
       "      <td>0.133849</td>\n",
       "      <td>0.380406</td>\n",
       "      <td>0.365854</td>\n",
       "    </tr>\n",
       "    <tr>\n",
       "      <th>8</th>\n",
       "      <td>RF_Bag</td>\n",
       "      <td>0.292888</td>\n",
       "      <td>0.302186</td>\n",
       "      <td>0.132700</td>\n",
       "      <td>0.140251</td>\n",
       "      <td>0.085783</td>\n",
       "      <td>0.091316</td>\n",
       "      <td>0.292888</td>\n",
       "      <td>0.302186</td>\n",
       "    </tr>\n",
       "    <tr>\n",
       "      <th>9</th>\n",
       "      <td>MNB_Bag</td>\n",
       "      <td>0.686678</td>\n",
       "      <td>0.658853</td>\n",
       "      <td>0.661205</td>\n",
       "      <td>0.637685</td>\n",
       "      <td>0.645302</td>\n",
       "      <td>0.631461</td>\n",
       "      <td>0.686678</td>\n",
       "      <td>0.658853</td>\n",
       "    </tr>\n",
       "    <tr>\n",
       "      <th>10</th>\n",
       "      <td>XGBoost</td>\n",
       "      <td>0.949390</td>\n",
       "      <td>0.923028</td>\n",
       "      <td>0.949163</td>\n",
       "      <td>0.922855</td>\n",
       "      <td>0.951857</td>\n",
       "      <td>0.925529</td>\n",
       "      <td>0.949390</td>\n",
       "      <td>0.923028</td>\n",
       "    </tr>\n",
       "    <tr>\n",
       "      <th>11</th>\n",
       "      <td>Voting</td>\n",
       "      <td>0.929827</td>\n",
       "      <td>0.917010</td>\n",
       "      <td>0.929236</td>\n",
       "      <td>0.916314</td>\n",
       "      <td>0.937773</td>\n",
       "      <td>0.925523</td>\n",
       "      <td>0.929827</td>\n",
       "      <td>0.917010</td>\n",
       "    </tr>\n",
       "  </tbody>\n",
       "</table>\n",
       "</div>"
      ],
      "text/plain": [
       "      model  accuracy_train  accuracy_test  f1_train   f1_test  \\\n",
       "0    LR_Ada        0.814510       0.803928  0.804280  0.793952   \n",
       "1    DT_Ada        0.941074       0.928413  0.940749  0.928017   \n",
       "2    RF_Ada        0.931095       0.921128  0.930634  0.920664   \n",
       "3   SVM_Ada        0.831300       0.822300  0.826060  0.816944   \n",
       "4   GNB_Ada        0.797719       0.790624  0.783480  0.776903   \n",
       "5   MNB_Ada        0.817123       0.802661  0.812588  0.798758   \n",
       "6    LR_Bag        0.516316       0.496991  0.410417  0.396151   \n",
       "7    DT_Bag        0.380406       0.365854  0.209661  0.195993   \n",
       "8    RF_Bag        0.292888       0.302186  0.132700  0.140251   \n",
       "9   MNB_Bag        0.686678       0.658853  0.661205  0.637685   \n",
       "10  XGBoost        0.949390       0.923028  0.949163  0.922855   \n",
       "11   Voting        0.929827       0.917010  0.929236  0.916314   \n",
       "\n",
       "    precision_train  precision_test  recall_train  recall_test  \n",
       "0          0.817907        0.807363      0.814510     0.803928  \n",
       "1          0.946397        0.934123      0.941074     0.928413  \n",
       "2          0.939299        0.929691      0.931095     0.921128  \n",
       "3          0.841499        0.832697      0.831300     0.822300  \n",
       "4          0.797066        0.785328      0.797719     0.790624  \n",
       "5          0.813117        0.797840      0.817123     0.802661  \n",
       "6          0.361020        0.354721      0.516316     0.496991  \n",
       "7          0.144708        0.133849      0.380406     0.365854  \n",
       "8          0.085783        0.091316      0.292888     0.302186  \n",
       "9          0.645302        0.631461      0.686678     0.658853  \n",
       "10         0.951857        0.925529      0.949390     0.923028  \n",
       "11         0.937773        0.925523      0.929827     0.917010  "
      ]
     },
     "execution_count": 47,
     "metadata": {},
     "output_type": "execute_result"
    }
   ],
   "source": [
    "ensemble_scores_df = pd.DataFrame(ensemble_scores, columns = ['model', 'accuracy_train', 'accuracy_test', 'f1_train', 'f1_test', 'precision_train', 'precision_test', 'recall_train', 'recall_test'])\n",
    "ensemble_scores_df"
   ]
  },
  {
   "cell_type": "markdown",
   "metadata": {},
   "source": [
    "# All Methods Scoring"
   ]
  },
  {
   "cell_type": "code",
   "execution_count": 140,
   "metadata": {},
   "outputs": [
    {
     "data": {
      "text/html": [
       "<div>\n",
       "<style scoped>\n",
       "    .dataframe tbody tr th:only-of-type {\n",
       "        vertical-align: middle;\n",
       "    }\n",
       "\n",
       "    .dataframe tbody tr th {\n",
       "        vertical-align: top;\n",
       "    }\n",
       "\n",
       "    .dataframe thead th {\n",
       "        text-align: right;\n",
       "    }\n",
       "</style>\n",
       "<table border=\"1\" class=\"dataframe\">\n",
       "  <thead>\n",
       "    <tr style=\"text-align: right;\">\n",
       "      <th></th>\n",
       "      <th>model</th>\n",
       "      <th>accuracy_train</th>\n",
       "      <th>accuracy_test</th>\n",
       "      <th>f1_train</th>\n",
       "      <th>f1_test</th>\n",
       "      <th>precision_train</th>\n",
       "      <th>precision_test</th>\n",
       "      <th>recall_train</th>\n",
       "      <th>recall_test</th>\n",
       "    </tr>\n",
       "  </thead>\n",
       "  <tbody>\n",
       "    <tr>\n",
       "      <th>0</th>\n",
       "      <td>LR</td>\n",
       "      <td>0.882465</td>\n",
       "      <td>0.884067</td>\n",
       "      <td>0.879063</td>\n",
       "      <td>0.881739</td>\n",
       "      <td>0.885437</td>\n",
       "      <td>0.885426</td>\n",
       "      <td>0.882465</td>\n",
       "      <td>0.884067</td>\n",
       "    </tr>\n",
       "    <tr>\n",
       "      <th>1</th>\n",
       "      <td>DT</td>\n",
       "      <td>0.928877</td>\n",
       "      <td>0.914793</td>\n",
       "      <td>0.928558</td>\n",
       "      <td>0.914610</td>\n",
       "      <td>0.931618</td>\n",
       "      <td>0.916657</td>\n",
       "      <td>0.928877</td>\n",
       "      <td>0.914793</td>\n",
       "    </tr>\n",
       "    <tr>\n",
       "      <th>2</th>\n",
       "      <td>RF</td>\n",
       "      <td>0.931095</td>\n",
       "      <td>0.919861</td>\n",
       "      <td>0.930621</td>\n",
       "      <td>0.919352</td>\n",
       "      <td>0.939318</td>\n",
       "      <td>0.928545</td>\n",
       "      <td>0.931095</td>\n",
       "      <td>0.919861</td>\n",
       "    </tr>\n",
       "    <tr>\n",
       "      <th>3</th>\n",
       "      <td>SVM</td>\n",
       "      <td>0.890147</td>\n",
       "      <td>0.889769</td>\n",
       "      <td>0.890678</td>\n",
       "      <td>0.890041</td>\n",
       "      <td>0.907876</td>\n",
       "      <td>0.907150</td>\n",
       "      <td>0.890147</td>\n",
       "      <td>0.889769</td>\n",
       "    </tr>\n",
       "    <tr>\n",
       "      <th>4</th>\n",
       "      <td>GNB</td>\n",
       "      <td>0.794234</td>\n",
       "      <td>0.785556</td>\n",
       "      <td>0.779613</td>\n",
       "      <td>0.771697</td>\n",
       "      <td>0.785417</td>\n",
       "      <td>0.780185</td>\n",
       "      <td>0.794234</td>\n",
       "      <td>0.785556</td>\n",
       "    </tr>\n",
       "    <tr>\n",
       "      <th>5</th>\n",
       "      <td>MNB</td>\n",
       "      <td>0.817123</td>\n",
       "      <td>0.802661</td>\n",
       "      <td>0.812588</td>\n",
       "      <td>0.798758</td>\n",
       "      <td>0.813117</td>\n",
       "      <td>0.797840</td>\n",
       "      <td>0.817123</td>\n",
       "      <td>0.802661</td>\n",
       "    </tr>\n",
       "    <tr>\n",
       "      <th>6</th>\n",
       "      <td>KNN</td>\n",
       "      <td>0.993109</td>\n",
       "      <td>0.912575</td>\n",
       "      <td>0.993114</td>\n",
       "      <td>0.912560</td>\n",
       "      <td>0.993173</td>\n",
       "      <td>0.913305</td>\n",
       "      <td>0.993109</td>\n",
       "      <td>0.912575</td>\n",
       "    </tr>\n",
       "    <tr>\n",
       "      <th>7</th>\n",
       "      <td>LR_Ada</td>\n",
       "      <td>0.814510</td>\n",
       "      <td>0.803928</td>\n",
       "      <td>0.804280</td>\n",
       "      <td>0.793952</td>\n",
       "      <td>0.817907</td>\n",
       "      <td>0.807363</td>\n",
       "      <td>0.814510</td>\n",
       "      <td>0.803928</td>\n",
       "    </tr>\n",
       "    <tr>\n",
       "      <th>8</th>\n",
       "      <td>DT_Ada</td>\n",
       "      <td>0.941074</td>\n",
       "      <td>0.928413</td>\n",
       "      <td>0.940749</td>\n",
       "      <td>0.928017</td>\n",
       "      <td>0.946397</td>\n",
       "      <td>0.934123</td>\n",
       "      <td>0.941074</td>\n",
       "      <td>0.928413</td>\n",
       "    </tr>\n",
       "    <tr>\n",
       "      <th>9</th>\n",
       "      <td>RF_Ada</td>\n",
       "      <td>0.931095</td>\n",
       "      <td>0.921128</td>\n",
       "      <td>0.930634</td>\n",
       "      <td>0.920664</td>\n",
       "      <td>0.939299</td>\n",
       "      <td>0.929691</td>\n",
       "      <td>0.931095</td>\n",
       "      <td>0.921128</td>\n",
       "    </tr>\n",
       "    <tr>\n",
       "      <th>10</th>\n",
       "      <td>SVM_Ada</td>\n",
       "      <td>0.831300</td>\n",
       "      <td>0.822300</td>\n",
       "      <td>0.826060</td>\n",
       "      <td>0.816944</td>\n",
       "      <td>0.841499</td>\n",
       "      <td>0.832697</td>\n",
       "      <td>0.831300</td>\n",
       "      <td>0.822300</td>\n",
       "    </tr>\n",
       "    <tr>\n",
       "      <th>11</th>\n",
       "      <td>GNB_Ada</td>\n",
       "      <td>0.797719</td>\n",
       "      <td>0.790624</td>\n",
       "      <td>0.783480</td>\n",
       "      <td>0.776903</td>\n",
       "      <td>0.797066</td>\n",
       "      <td>0.785328</td>\n",
       "      <td>0.797719</td>\n",
       "      <td>0.790624</td>\n",
       "    </tr>\n",
       "    <tr>\n",
       "      <th>12</th>\n",
       "      <td>MNB_Ada</td>\n",
       "      <td>0.817123</td>\n",
       "      <td>0.802661</td>\n",
       "      <td>0.812588</td>\n",
       "      <td>0.798758</td>\n",
       "      <td>0.813117</td>\n",
       "      <td>0.797840</td>\n",
       "      <td>0.817123</td>\n",
       "      <td>0.802661</td>\n",
       "    </tr>\n",
       "    <tr>\n",
       "      <th>13</th>\n",
       "      <td>LR_Bag</td>\n",
       "      <td>0.516316</td>\n",
       "      <td>0.496991</td>\n",
       "      <td>0.410417</td>\n",
       "      <td>0.396151</td>\n",
       "      <td>0.361020</td>\n",
       "      <td>0.354721</td>\n",
       "      <td>0.516316</td>\n",
       "      <td>0.496991</td>\n",
       "    </tr>\n",
       "    <tr>\n",
       "      <th>14</th>\n",
       "      <td>DT_Bag</td>\n",
       "      <td>0.380406</td>\n",
       "      <td>0.365854</td>\n",
       "      <td>0.209661</td>\n",
       "      <td>0.195993</td>\n",
       "      <td>0.144708</td>\n",
       "      <td>0.133849</td>\n",
       "      <td>0.380406</td>\n",
       "      <td>0.365854</td>\n",
       "    </tr>\n",
       "    <tr>\n",
       "      <th>15</th>\n",
       "      <td>RF_Bag</td>\n",
       "      <td>0.292888</td>\n",
       "      <td>0.302186</td>\n",
       "      <td>0.132700</td>\n",
       "      <td>0.140251</td>\n",
       "      <td>0.085783</td>\n",
       "      <td>0.091316</td>\n",
       "      <td>0.292888</td>\n",
       "      <td>0.302186</td>\n",
       "    </tr>\n",
       "    <tr>\n",
       "      <th>16</th>\n",
       "      <td>MNB_Bag</td>\n",
       "      <td>0.686678</td>\n",
       "      <td>0.658853</td>\n",
       "      <td>0.661205</td>\n",
       "      <td>0.637685</td>\n",
       "      <td>0.645302</td>\n",
       "      <td>0.631461</td>\n",
       "      <td>0.686678</td>\n",
       "      <td>0.658853</td>\n",
       "    </tr>\n",
       "    <tr>\n",
       "      <th>17</th>\n",
       "      <td>XGBoost</td>\n",
       "      <td>0.949390</td>\n",
       "      <td>0.923028</td>\n",
       "      <td>0.949163</td>\n",
       "      <td>0.922855</td>\n",
       "      <td>0.951857</td>\n",
       "      <td>0.925529</td>\n",
       "      <td>0.949390</td>\n",
       "      <td>0.923028</td>\n",
       "    </tr>\n",
       "    <tr>\n",
       "      <th>18</th>\n",
       "      <td>Voting</td>\n",
       "      <td>0.929827</td>\n",
       "      <td>0.917010</td>\n",
       "      <td>0.929236</td>\n",
       "      <td>0.916314</td>\n",
       "      <td>0.937773</td>\n",
       "      <td>0.925523</td>\n",
       "      <td>0.929827</td>\n",
       "      <td>0.917010</td>\n",
       "    </tr>\n",
       "    <tr>\n",
       "      <th>19</th>\n",
       "      <td>FF</td>\n",
       "      <td>0.929431</td>\n",
       "      <td>0.920811</td>\n",
       "      <td>0.928794</td>\n",
       "      <td>0.920303</td>\n",
       "      <td>0.936153</td>\n",
       "      <td>0.926805</td>\n",
       "      <td>0.929431</td>\n",
       "      <td>0.920811</td>\n",
       "    </tr>\n",
       "  </tbody>\n",
       "</table>\n",
       "</div>"
      ],
      "text/plain": [
       "      model  accuracy_train  accuracy_test  f1_train   f1_test  \\\n",
       "0        LR        0.882465       0.884067  0.879063  0.881739   \n",
       "1        DT        0.928877       0.914793  0.928558  0.914610   \n",
       "2        RF        0.931095       0.919861  0.930621  0.919352   \n",
       "3       SVM        0.890147       0.889769  0.890678  0.890041   \n",
       "4       GNB        0.794234       0.785556  0.779613  0.771697   \n",
       "5       MNB        0.817123       0.802661  0.812588  0.798758   \n",
       "6       KNN        0.993109       0.912575  0.993114  0.912560   \n",
       "7    LR_Ada        0.814510       0.803928  0.804280  0.793952   \n",
       "8    DT_Ada        0.941074       0.928413  0.940749  0.928017   \n",
       "9    RF_Ada        0.931095       0.921128  0.930634  0.920664   \n",
       "10  SVM_Ada        0.831300       0.822300  0.826060  0.816944   \n",
       "11  GNB_Ada        0.797719       0.790624  0.783480  0.776903   \n",
       "12  MNB_Ada        0.817123       0.802661  0.812588  0.798758   \n",
       "13   LR_Bag        0.516316       0.496991  0.410417  0.396151   \n",
       "14   DT_Bag        0.380406       0.365854  0.209661  0.195993   \n",
       "15   RF_Bag        0.292888       0.302186  0.132700  0.140251   \n",
       "16  MNB_Bag        0.686678       0.658853  0.661205  0.637685   \n",
       "17  XGBoost        0.949390       0.923028  0.949163  0.922855   \n",
       "18   Voting        0.929827       0.917010  0.929236  0.916314   \n",
       "19       FF        0.929431       0.920811  0.928794  0.920303   \n",
       "\n",
       "    precision_train  precision_test  recall_train  recall_test  \n",
       "0          0.885437        0.885426      0.882465     0.884067  \n",
       "1          0.931618        0.916657      0.928877     0.914793  \n",
       "2          0.939318        0.928545      0.931095     0.919861  \n",
       "3          0.907876        0.907150      0.890147     0.889769  \n",
       "4          0.785417        0.780185      0.794234     0.785556  \n",
       "5          0.813117        0.797840      0.817123     0.802661  \n",
       "6          0.993173        0.913305      0.993109     0.912575  \n",
       "7          0.817907        0.807363      0.814510     0.803928  \n",
       "8          0.946397        0.934123      0.941074     0.928413  \n",
       "9          0.939299        0.929691      0.931095     0.921128  \n",
       "10         0.841499        0.832697      0.831300     0.822300  \n",
       "11         0.797066        0.785328      0.797719     0.790624  \n",
       "12         0.813117        0.797840      0.817123     0.802661  \n",
       "13         0.361020        0.354721      0.516316     0.496991  \n",
       "14         0.144708        0.133849      0.380406     0.365854  \n",
       "15         0.085783        0.091316      0.292888     0.302186  \n",
       "16         0.645302        0.631461      0.686678     0.658853  \n",
       "17         0.951857        0.925529      0.949390     0.923028  \n",
       "18         0.937773        0.925523      0.929827     0.917010  \n",
       "19         0.936153        0.926805      0.929431     0.920811  "
      ]
     },
     "execution_count": 140,
     "metadata": {},
     "output_type": "execute_result"
    }
   ],
   "source": [
    "feedforward_scores_df = pd.DataFrame([['FF', 0.929431,0.920811,0.928794,0.920303,0.936153,0.926805,0.929431,0.920811]], columns = ['model', 'accuracy_train', 'accuracy_test', 'f1_train', 'f1_test', 'precision_train', 'precision_test', 'recall_train', 'recall_test'])\n",
    "all_scores_df = base_scores_df.append(ensemble_scores_df).append(feedforward_scores_df)\n",
    "all_scores_df = all_scores_df.reset_index()\n",
    "all_scores_df = all_scores_df.drop(columns=['index'])\n",
    "all_scores_df"
   ]
  },
  {
   "cell_type": "code",
   "execution_count": 141,
   "metadata": {},
   "outputs": [
    {
     "data": {
      "text/html": [
       "<div>\n",
       "<style scoped>\n",
       "    .dataframe tbody tr th:only-of-type {\n",
       "        vertical-align: middle;\n",
       "    }\n",
       "\n",
       "    .dataframe tbody tr th {\n",
       "        vertical-align: top;\n",
       "    }\n",
       "\n",
       "    .dataframe thead th {\n",
       "        text-align: right;\n",
       "    }\n",
       "</style>\n",
       "<table border=\"1\" class=\"dataframe\">\n",
       "  <thead>\n",
       "    <tr style=\"text-align: right;\">\n",
       "      <th></th>\n",
       "      <th>model</th>\n",
       "      <th>accuracy_train</th>\n",
       "      <th>accuracy_test</th>\n",
       "      <th>f1_train</th>\n",
       "      <th>f1_test</th>\n",
       "      <th>precision_train</th>\n",
       "      <th>precision_test</th>\n",
       "      <th>recall_train</th>\n",
       "      <th>recall_test</th>\n",
       "    </tr>\n",
       "  </thead>\n",
       "  <tbody>\n",
       "    <tr>\n",
       "      <th>8</th>\n",
       "      <td>DT_Ada</td>\n",
       "      <td>0.941074</td>\n",
       "      <td>0.928413</td>\n",
       "      <td>0.940749</td>\n",
       "      <td>0.928017</td>\n",
       "      <td>0.946397</td>\n",
       "      <td>0.934123</td>\n",
       "      <td>0.941074</td>\n",
       "      <td>0.928413</td>\n",
       "    </tr>\n",
       "    <tr>\n",
       "      <th>17</th>\n",
       "      <td>XGBoost</td>\n",
       "      <td>0.949390</td>\n",
       "      <td>0.923028</td>\n",
       "      <td>0.949163</td>\n",
       "      <td>0.922855</td>\n",
       "      <td>0.951857</td>\n",
       "      <td>0.925529</td>\n",
       "      <td>0.949390</td>\n",
       "      <td>0.923028</td>\n",
       "    </tr>\n",
       "    <tr>\n",
       "      <th>9</th>\n",
       "      <td>RF_Ada</td>\n",
       "      <td>0.931095</td>\n",
       "      <td>0.921128</td>\n",
       "      <td>0.930634</td>\n",
       "      <td>0.920664</td>\n",
       "      <td>0.939299</td>\n",
       "      <td>0.929691</td>\n",
       "      <td>0.931095</td>\n",
       "      <td>0.921128</td>\n",
       "    </tr>\n",
       "    <tr>\n",
       "      <th>19</th>\n",
       "      <td>FF</td>\n",
       "      <td>0.929431</td>\n",
       "      <td>0.920811</td>\n",
       "      <td>0.928794</td>\n",
       "      <td>0.920303</td>\n",
       "      <td>0.936153</td>\n",
       "      <td>0.926805</td>\n",
       "      <td>0.929431</td>\n",
       "      <td>0.920811</td>\n",
       "    </tr>\n",
       "    <tr>\n",
       "      <th>2</th>\n",
       "      <td>RF</td>\n",
       "      <td>0.931095</td>\n",
       "      <td>0.919861</td>\n",
       "      <td>0.930621</td>\n",
       "      <td>0.919352</td>\n",
       "      <td>0.939318</td>\n",
       "      <td>0.928545</td>\n",
       "      <td>0.931095</td>\n",
       "      <td>0.919861</td>\n",
       "    </tr>\n",
       "    <tr>\n",
       "      <th>18</th>\n",
       "      <td>Voting</td>\n",
       "      <td>0.929827</td>\n",
       "      <td>0.917010</td>\n",
       "      <td>0.929236</td>\n",
       "      <td>0.916314</td>\n",
       "      <td>0.937773</td>\n",
       "      <td>0.925523</td>\n",
       "      <td>0.929827</td>\n",
       "      <td>0.917010</td>\n",
       "    </tr>\n",
       "    <tr>\n",
       "      <th>1</th>\n",
       "      <td>DT</td>\n",
       "      <td>0.928877</td>\n",
       "      <td>0.914793</td>\n",
       "      <td>0.928558</td>\n",
       "      <td>0.914610</td>\n",
       "      <td>0.931618</td>\n",
       "      <td>0.916657</td>\n",
       "      <td>0.928877</td>\n",
       "      <td>0.914793</td>\n",
       "    </tr>\n",
       "    <tr>\n",
       "      <th>6</th>\n",
       "      <td>KNN</td>\n",
       "      <td>0.993109</td>\n",
       "      <td>0.912575</td>\n",
       "      <td>0.993114</td>\n",
       "      <td>0.912560</td>\n",
       "      <td>0.993173</td>\n",
       "      <td>0.913305</td>\n",
       "      <td>0.993109</td>\n",
       "      <td>0.912575</td>\n",
       "    </tr>\n",
       "    <tr>\n",
       "      <th>3</th>\n",
       "      <td>SVM</td>\n",
       "      <td>0.890147</td>\n",
       "      <td>0.889769</td>\n",
       "      <td>0.890678</td>\n",
       "      <td>0.890041</td>\n",
       "      <td>0.907876</td>\n",
       "      <td>0.907150</td>\n",
       "      <td>0.890147</td>\n",
       "      <td>0.889769</td>\n",
       "    </tr>\n",
       "    <tr>\n",
       "      <th>0</th>\n",
       "      <td>LR</td>\n",
       "      <td>0.882465</td>\n",
       "      <td>0.884067</td>\n",
       "      <td>0.879063</td>\n",
       "      <td>0.881739</td>\n",
       "      <td>0.885437</td>\n",
       "      <td>0.885426</td>\n",
       "      <td>0.882465</td>\n",
       "      <td>0.884067</td>\n",
       "    </tr>\n",
       "    <tr>\n",
       "      <th>10</th>\n",
       "      <td>SVM_Ada</td>\n",
       "      <td>0.831300</td>\n",
       "      <td>0.822300</td>\n",
       "      <td>0.826060</td>\n",
       "      <td>0.816944</td>\n",
       "      <td>0.841499</td>\n",
       "      <td>0.832697</td>\n",
       "      <td>0.831300</td>\n",
       "      <td>0.822300</td>\n",
       "    </tr>\n",
       "    <tr>\n",
       "      <th>12</th>\n",
       "      <td>MNB_Ada</td>\n",
       "      <td>0.817123</td>\n",
       "      <td>0.802661</td>\n",
       "      <td>0.812588</td>\n",
       "      <td>0.798758</td>\n",
       "      <td>0.813117</td>\n",
       "      <td>0.797840</td>\n",
       "      <td>0.817123</td>\n",
       "      <td>0.802661</td>\n",
       "    </tr>\n",
       "    <tr>\n",
       "      <th>5</th>\n",
       "      <td>MNB</td>\n",
       "      <td>0.817123</td>\n",
       "      <td>0.802661</td>\n",
       "      <td>0.812588</td>\n",
       "      <td>0.798758</td>\n",
       "      <td>0.813117</td>\n",
       "      <td>0.797840</td>\n",
       "      <td>0.817123</td>\n",
       "      <td>0.802661</td>\n",
       "    </tr>\n",
       "    <tr>\n",
       "      <th>7</th>\n",
       "      <td>LR_Ada</td>\n",
       "      <td>0.814510</td>\n",
       "      <td>0.803928</td>\n",
       "      <td>0.804280</td>\n",
       "      <td>0.793952</td>\n",
       "      <td>0.817907</td>\n",
       "      <td>0.807363</td>\n",
       "      <td>0.814510</td>\n",
       "      <td>0.803928</td>\n",
       "    </tr>\n",
       "    <tr>\n",
       "      <th>11</th>\n",
       "      <td>GNB_Ada</td>\n",
       "      <td>0.797719</td>\n",
       "      <td>0.790624</td>\n",
       "      <td>0.783480</td>\n",
       "      <td>0.776903</td>\n",
       "      <td>0.797066</td>\n",
       "      <td>0.785328</td>\n",
       "      <td>0.797719</td>\n",
       "      <td>0.790624</td>\n",
       "    </tr>\n",
       "    <tr>\n",
       "      <th>4</th>\n",
       "      <td>GNB</td>\n",
       "      <td>0.794234</td>\n",
       "      <td>0.785556</td>\n",
       "      <td>0.779613</td>\n",
       "      <td>0.771697</td>\n",
       "      <td>0.785417</td>\n",
       "      <td>0.780185</td>\n",
       "      <td>0.794234</td>\n",
       "      <td>0.785556</td>\n",
       "    </tr>\n",
       "    <tr>\n",
       "      <th>16</th>\n",
       "      <td>MNB_Bag</td>\n",
       "      <td>0.686678</td>\n",
       "      <td>0.658853</td>\n",
       "      <td>0.661205</td>\n",
       "      <td>0.637685</td>\n",
       "      <td>0.645302</td>\n",
       "      <td>0.631461</td>\n",
       "      <td>0.686678</td>\n",
       "      <td>0.658853</td>\n",
       "    </tr>\n",
       "    <tr>\n",
       "      <th>13</th>\n",
       "      <td>LR_Bag</td>\n",
       "      <td>0.516316</td>\n",
       "      <td>0.496991</td>\n",
       "      <td>0.410417</td>\n",
       "      <td>0.396151</td>\n",
       "      <td>0.361020</td>\n",
       "      <td>0.354721</td>\n",
       "      <td>0.516316</td>\n",
       "      <td>0.496991</td>\n",
       "    </tr>\n",
       "    <tr>\n",
       "      <th>14</th>\n",
       "      <td>DT_Bag</td>\n",
       "      <td>0.380406</td>\n",
       "      <td>0.365854</td>\n",
       "      <td>0.209661</td>\n",
       "      <td>0.195993</td>\n",
       "      <td>0.144708</td>\n",
       "      <td>0.133849</td>\n",
       "      <td>0.380406</td>\n",
       "      <td>0.365854</td>\n",
       "    </tr>\n",
       "    <tr>\n",
       "      <th>15</th>\n",
       "      <td>RF_Bag</td>\n",
       "      <td>0.292888</td>\n",
       "      <td>0.302186</td>\n",
       "      <td>0.132700</td>\n",
       "      <td>0.140251</td>\n",
       "      <td>0.085783</td>\n",
       "      <td>0.091316</td>\n",
       "      <td>0.292888</td>\n",
       "      <td>0.302186</td>\n",
       "    </tr>\n",
       "  </tbody>\n",
       "</table>\n",
       "</div>"
      ],
      "text/plain": [
       "      model  accuracy_train  accuracy_test  f1_train   f1_test  \\\n",
       "8    DT_Ada        0.941074       0.928413  0.940749  0.928017   \n",
       "17  XGBoost        0.949390       0.923028  0.949163  0.922855   \n",
       "9    RF_Ada        0.931095       0.921128  0.930634  0.920664   \n",
       "19       FF        0.929431       0.920811  0.928794  0.920303   \n",
       "2        RF        0.931095       0.919861  0.930621  0.919352   \n",
       "18   Voting        0.929827       0.917010  0.929236  0.916314   \n",
       "1        DT        0.928877       0.914793  0.928558  0.914610   \n",
       "6       KNN        0.993109       0.912575  0.993114  0.912560   \n",
       "3       SVM        0.890147       0.889769  0.890678  0.890041   \n",
       "0        LR        0.882465       0.884067  0.879063  0.881739   \n",
       "10  SVM_Ada        0.831300       0.822300  0.826060  0.816944   \n",
       "12  MNB_Ada        0.817123       0.802661  0.812588  0.798758   \n",
       "5       MNB        0.817123       0.802661  0.812588  0.798758   \n",
       "7    LR_Ada        0.814510       0.803928  0.804280  0.793952   \n",
       "11  GNB_Ada        0.797719       0.790624  0.783480  0.776903   \n",
       "4       GNB        0.794234       0.785556  0.779613  0.771697   \n",
       "16  MNB_Bag        0.686678       0.658853  0.661205  0.637685   \n",
       "13   LR_Bag        0.516316       0.496991  0.410417  0.396151   \n",
       "14   DT_Bag        0.380406       0.365854  0.209661  0.195993   \n",
       "15   RF_Bag        0.292888       0.302186  0.132700  0.140251   \n",
       "\n",
       "    precision_train  precision_test  recall_train  recall_test  \n",
       "8          0.946397        0.934123      0.941074     0.928413  \n",
       "17         0.951857        0.925529      0.949390     0.923028  \n",
       "9          0.939299        0.929691      0.931095     0.921128  \n",
       "19         0.936153        0.926805      0.929431     0.920811  \n",
       "2          0.939318        0.928545      0.931095     0.919861  \n",
       "18         0.937773        0.925523      0.929827     0.917010  \n",
       "1          0.931618        0.916657      0.928877     0.914793  \n",
       "6          0.993173        0.913305      0.993109     0.912575  \n",
       "3          0.907876        0.907150      0.890147     0.889769  \n",
       "0          0.885437        0.885426      0.882465     0.884067  \n",
       "10         0.841499        0.832697      0.831300     0.822300  \n",
       "12         0.813117        0.797840      0.817123     0.802661  \n",
       "5          0.813117        0.797840      0.817123     0.802661  \n",
       "7          0.817907        0.807363      0.814510     0.803928  \n",
       "11         0.797066        0.785328      0.797719     0.790624  \n",
       "4          0.785417        0.780185      0.794234     0.785556  \n",
       "16         0.645302        0.631461      0.686678     0.658853  \n",
       "13         0.361020        0.354721      0.516316     0.496991  \n",
       "14         0.144708        0.133849      0.380406     0.365854  \n",
       "15         0.085783        0.091316      0.292888     0.302186  "
      ]
     },
     "execution_count": 141,
     "metadata": {},
     "output_type": "execute_result"
    }
   ],
   "source": [
    "all_scores_df.sort_values(by='f1_test', ascending=False)"
   ]
  },
  {
   "cell_type": "markdown",
   "metadata": {},
   "source": [
    "### Plot Scores"
   ]
  },
  {
   "cell_type": "code",
   "execution_count": 142,
   "metadata": {},
   "outputs": [],
   "source": [
    "plot_df = all_scores_df.set_index('model').sort_values(by='f1_test')"
   ]
  },
  {
   "cell_type": "code",
   "execution_count": 143,
   "metadata": {},
   "outputs": [
    {
     "data": {
      "image/png": "[encoded data removed]",
      "text/plain": [
       "<Figure size 1440x720 with 4 Axes>"
      ]
     },
     "metadata": {
      "needs_background": "light"
     },
     "output_type": "display_data"
    }
   ],
   "source": [
    "plt.figure(figsize=(20,10))\n",
    "\n",
    "c=1\n",
    "for i in ['accuracy', 'f1', 'precision', 'recall']:\n",
    "    p = plt.subplot(4,1,c)\n",
    "    \n",
    "    p = sns.lineplot(x=plot_df.index, y= plot_df[i + '_train'], color='orange', legend= 'full')\n",
    "    p = sns.lineplot(x=plot_df.index, y= plot_df[i + '_test'], color='green', legend='full')\n",
    "    p.set_ylabel(i)\n",
    "    p.legend(['Train', 'Test'])\n",
    "    c +=1"
   ]
  },
  {
   "cell_type": "code",
   "execution_count": null,
   "metadata": {},
   "outputs": [],
   "source": []
  }
 ],
 "metadata": {
  "interpreter": {
   "hash": "b3ba2566441a7c06988d0923437866b63cedc61552a5af99d1f4fb67d367b25f"
  },
  "kernelspec": {
   "display_name": "Python 3.9.7 64-bit ('base': conda)",
   "language": "python",
   "name": "python3"
  },
  "language_info": {
   "codemirror_mode": {
    "name": "ipython",
    "version": 3
   },
   "file_extension": ".py",
   "mimetype": "text/x-python",
   "name": "python",
   "nbconvert_exporter": "python",
   "pygments_lexer": "ipython3",
   "version": "3.9.7"
  },
  "orig_nbformat": 4
 },
 "nbformat": 4,
 "nbformat_minor": 2
}
